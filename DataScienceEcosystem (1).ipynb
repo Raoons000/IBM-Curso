{
 "cells": [
  {
   "cell_type": "markdown",
   "id": "3662be3c-3106-4dee-b26d-deea0a15649d",
   "metadata": {},
   "source": [
    "# Data Science Tools and Ecosystem"
   ]
  },
  {
   "cell_type": "markdown",
   "id": "90eaae7c-7fec-41d9-a0e8-13b8c33c3100",
   "metadata": {},
   "source": [
    "# Data Science Tools and Ecosystem"
   ]
  },
  {
   "cell_type": "markdown",
   "id": "0c5d1885-08e2-479b-b961-88002b35cff6",
   "metadata": {},
   "source": [
    "## Introdução\n",
    "In this notebook, Data Science Tools and Ecosystem are summarized."
   ]
  },
  {
   "cell_type": "markdown",
   "id": "e137aa6f-3128-4046-8f85-b41697044a6a",
   "metadata": {},
   "source": [
    "## Introdução\n",
    "In this notebook, Data Science Tools and Ecosystem are summarized."
   ]
  },
  {
   "cell_type": "markdown",
   "id": "8d9a3971-ab12-4946-8646-65b0c03f3cb4",
   "metadata": {},
   "source": [
    "## Linguagens de Programação em Ciência de Dados\n",
    "\n",
    "Some of the popular languages that Data Scientists use are:\n",
    "\n",
    "1. Python  \n",
    "2. R  \n",
    "3. SQL  \n",
    "4. Julia  \n",
    "5. Scala"
   ]
  },
  {
   "cell_type": "markdown",
   "id": "2d89b159-2a18-4490-9be4-232936548df1",
   "metadata": {},
   "source": [
    "## Linguagens de Programação em Ciência de Dados\n",
    "\n",
    "Some of the popular languages that Data Scientists use are:\n",
    "\n",
    "1. Python  \n",
    "2. R  \n",
    "3. SQL  \n",
    "4. Julia  \n",
    "5. Scala"
   ]
  },
  {
   "cell_type": "markdown",
   "id": "deb068cf-a900-41dc-9266-846cc401d834",
   "metadata": {},
   "source": [
    "## Bibliotecas em Ciência de Dados\n",
    "\n",
    "Some of the commonly used libraries used by Data Scientists include:\n",
    "\n",
    "1. Pandas  \n",
    "2. NumPy  \n",
    "3. Matplotlib  \n",
    "4. Scikit-learn  \n",
    "5. TensorFlow"
   ]
  },
  {
   "cell_type": "markdown",
   "id": "dabb8775-95e3-489f-acef-fcdfb5d670a6",
   "metadata": {},
   "source": [
    "## Bibliotecas em Ciência de Dados\n",
    "\n",
    "Some of the commonly used libraries used by Data Scientists include:\n",
    "\n",
    "1. Pandas  \n",
    "2. NumPy  \n",
    "3. Matplotlib  \n",
    "4. Scikit-learn  \n",
    "5. TensorFlow"
   ]
  },
  {
   "cell_type": "markdown",
   "id": "514e4056-e7ee-42a2-853f-2e4210eecb78",
   "metadata": {},
   "source": [
    "## Data Science Tools\n",
    "\n",
    "| Data Science Tools       |\n",
    "|--------------------------|\n",
    "| Jupyter Notebook         |\n",
    "| RStudio                  |\n",
    "| VS Code                  |"
   ]
  },
  {
   "cell_type": "markdown",
   "id": "0b59e088-a640-4aec-a4fe-4ea78e2fb406",
   "metadata": {},
   "source": [
    "## Data Science Tools\n",
    "\n",
    "| Data Science Tools       |\n",
    "|--------------------------|\n",
    "| Jupyter Notebook         |\n",
    "| RStudio                  |\n",
    "| VS Code                  |"
   ]
  },
  {
   "cell_type": "markdown",
   "id": "707d13a1-0ead-41ee-ac38-13a5d7f54dc9",
   "metadata": {},
   "source": [
    "### Below are a few examples of evaluating arithmetic expressions in Python.\n"
   ]
  },
  {
   "cell_type": "markdown",
   "id": "c367d5fe-6165-412b-adf6-d4d6dc2441e6",
   "metadata": {},
   "source": [
    "### Below are a few examples of evaluating arithmetic expressions in Python.\n"
   ]
  },
  {
   "cell_type": "code",
   "execution_count": 7,
   "id": "5a97977a-309c-4eea-b0a8-9c1ecaa970da",
   "metadata": {},
   "outputs": [
    {
     "name": "stdout",
     "output_type": "stream",
     "text": [
      "Resultado da soma: 7\n",
      "Resultado da multiplicação: 10\n"
     ]
    }
   ],
   "source": [
    "# This is a simple arithmetic expression to multiply then add integers\n",
    "\n",
    "a = (3 * 4) + 5\n",
    "\n",
    "print(a)"
   ]
  },
  {
   "cell_type": "code",
   "execution_count": null,
   "id": "85a949cc-67ca-4199-9aa7-1ce99cae1616",
   "metadata": {},
   "outputs": [],
   "source": []
  },
  {
   "cell_type": "code",
   "execution_count": 7,
   "id": "b80e5d41-415e-47a4-8ec0-80c4f7c46301",
   "metadata": {},
   "outputs": [
    {
     "name": "stdout",
     "output_type": "stream",
     "text": [
      "Resultado da soma: 7\n",
      "Resultado da multiplicação: 10\n"
     ]
    }
   ],
   "source": [
    "# This is a simple arithmetic expression to multiply then add integers\n",
    "\n",
    "a = (3 * 4) + 5\n",
    "\n",
    "print(a)"
   ]
  },
  {
   "cell_type": "code",
   "execution_count": 7,
   "id": "999f374f-2420-4362-ace2-d0db260e251b",
   "metadata": {},
   "outputs": [
    {
     "name": "stdout",
     "output_type": "stream",
     "text": [
      "Resultado da soma: 7\n",
      "Resultado da multiplicação: 10\n"
     ]
    }
   ],
   "source": [
    "# This is a simple arithmetic expression to multiply then add integers\n",
    "(3 * 4) + 5"
   ]
  },
  {
   "cell_type": "code",
   "execution_count": 8,
   "id": "8fedd449-cbda-4424-94d8-4eac532c325b",
   "metadata": {},
   "outputs": [
    {
     "name": "stdout",
     "output_type": "stream",
     "text": [
      "minutos 120 em horas 2.0\n"
     ]
    }
   ],
   "source": [
    "# Minutos em horas\n",
    "\n",
    "m = 120\n",
    "h = m / 60\n",
    "\n",
    "print(f\"minutos {m} em horas {h:2}\")"
   ]
  },
  {
   "cell_type": "markdown",
   "id": "59a4f044-514a-49a2-89b9-3be5862d5852",
   "metadata": {},
   "source": [
    "# Setimo texto \n",
    "## Objetivos \n",
    "- Entender os conceitos básicos de ciência de dados.\n",
    "- Aprender a usar notebooks Jupyter para análise de dados.\n",
    "- Explorar linguagens populares como Python e R.\n",
    "- Conhecer as principais bibliotecas e ferramentas de ciência de dados.\n",
    "- Desenvolver habilidades para visualização de dados.\n",
    "- Aplicar técnicas de análise exploratória e modelagem"
   ]
  },
  {
   "cell_type": "markdown",
   "id": "3933ff52-4d23-45ed-9e63-2257aef2571d",
   "metadata": {},
   "source": [
    "# Setimo texto \n",
    "## Objetivos \n",
    "- Entender os conceitos básicos de ciência de dados.\n",
    "- Aprender a usar notebooks Jupyter para análise de dados.\n",
    "- Explorar linguagens populares como Python e R.\n",
    "- Conhecer as principais bibliotecas e ferramentas de ciência de dados.\n",
    "- Desenvolver habilidades para visualização de dados.\n",
    "- Aplicar técnicas de análise exploratória e modelagem"
   ]
  },
  {
   "cell_type": "markdown",
   "id": "b0cf0000-a528-41cd-964a-1b671f17c0a9",
   "metadata": {},
   "source": [
    "# Oitavo texto\n",
    "## Autor \n",
    "**Sou eu Ramon VF Reis**"
   ]
  },
  {
   "cell_type": "markdown",
   "id": "ddba8229-ceb8-46a4-b38e-a5ff4c78ecc6",
   "metadata": {},
   "source": [
    "# Oitavo texto\n",
    "## Autor \n",
    "**Sou eu Ramon VF Reis**"
   ]
  },
  {
   "cell_type": "code",
   "execution_count": 9,
   "id": "856b7d30-331d-4f34-b6d6-49a8edca99fe",
   "metadata": {},
   "outputs": [
    {
     "name": "stdout",
     "output_type": "stream",
     "text": [
      "17\n"
     ]
    }
   ],
   "source": [
    "# This is a simple arithmetic expression to multiply then add integers\n",
    "\n",
    "a = (3 * 4) + 5\n",
    "\n",
    "print(a)"
   ]
  },
  {
   "cell_type": "code",
   "execution_count": 14,
   "id": "9dc6fcbc-05b1-4dc1-ad20-c9c918c357a0",
   "metadata": {},
   "outputs": [
    {
     "ename": "SyntaxError",
     "evalue": "invalid decimal literal (1599004283.py, line 4)",
     "output_type": "error",
     "traceback": [
      "\u001b[0;36m  Cell \u001b[0;32mIn[14], line 4\u001b[0;36m\u001b[0m\n\u001b[0;31m    print(hours:3f)\u001b[0m\n\u001b[0m                ^\u001b[0m\n\u001b[0;31mSyntaxError\u001b[0m\u001b[0;31m:\u001b[0m invalid decimal literal\n"
     ]
    }
   ],
   "source": [
    "# This will convert 200 minutes to hours by dividing by 60\n",
    "minutes = 200\n",
    "hours = minutes / 60\n",
    "print(hours:3)"
   ]
  },
  {
   "cell_type": "code",
   "execution_count": null,
   "id": "468d41e0-501c-4a7a-a2bd-784ec30fc933",
   "metadata": {},
   "outputs": [],
   "source": [
    "**Objectives:**\n",
    "\n",
    "- List popular languages for Data Science  \n",
    "- List commonly used libraries for Data Science  \n",
    "- Create and format Markdown cells in a Jupyter notebook  \n",
    "- Perform arithmetic operations using Python code cells  \n",
    "- Convert values (e.g., minutes to hours) using Python"
   ]
  },
  {
   "cell_type": "markdown",
   "id": "ab1c597c-4b57-45a5-943c-01ddba50195a",
   "metadata": {},
   "source": [
    "**Objectives:**\n",
    "\n",
    "- List popular languages for Data Science  \n",
    "- List commonly used libraries for Data Science  \n",
    "- Create and format Markdown cells in a Jupyter notebook  \n",
    "- Perform arithmetic operations using Python code cells  \n",
    "- Convert values (e.g., minutes to hours) using Python"
   ]
  },
  {
   "cell_type": "markdown",
   "id": "37b6ed7b-9756-4b1c-8bfd-2bac261b9f79",
   "metadata": {},
   "source": [
    "## Author  \n",
    "Ramon Viana Ferreira Dos Reis"
   ]
  },
  {
   "cell_type": "markdown",
   "id": "a62a53f7-5025-42b6-b86f-78d8e644af7d",
   "metadata": {},
   "source": [
    "## Author  \n",
    "Ramon Viana Ferreira Dos Reis"
   ]
  }
 ],
 "metadata": {
  "kernelspec": {
   "display_name": "Python 3 (ipykernel)",
   "language": "python",
   "name": "python3"
  },
  "language_info": {
   "codemirror_mode": {
    "name": "ipython",
    "version": 3
   },
   "file_extension": ".py",
   "mimetype": "text/x-python",
   "name": "python",
   "nbconvert_exporter": "python",
   "pygments_lexer": "ipython3",
   "version": "3.12.8"
  }
 },
 "nbformat": 4,
 "nbformat_minor": 5
}
